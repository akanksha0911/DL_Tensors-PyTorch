{
  "nbformat": 4,
  "nbformat_minor": 0,
  "metadata": {
    "colab": {
      "name": "DL_Tensor.ipynb",
      "provenance": [],
      "collapsed_sections": [],
      "authorship_tag": "ABX9TyMR657A1QxpD8frL+O9vAG1",
      "include_colab_link": true
    },
    "kernelspec": {
      "name": "python3",
      "display_name": "Python 3"
    },
    "language_info": {
      "name": "python"
    },
    "accelerator": "GPU"
  },
  "cells": [
    {
      "cell_type": "markdown",
      "metadata": {
        "id": "view-in-github",
        "colab_type": "text"
      },
      "source": [
        "<a href=\"https://colab.research.google.com/github/akanksha0911/DL_Tensors-PyTorch/blob/main/DL_Tensor.ipynb\" target=\"_parent\"><img src=\"https://colab.research.google.com/assets/colab-badge.svg\" alt=\"Open In Colab\"/></a>"
      ]
    },
    {
      "cell_type": "markdown",
      "source": [
        "##**Tesnor Basics**"
      ],
      "metadata": {
        "id": "gyiVItu9xGJZ"
      }
    },
    {
      "cell_type": "markdown",
      "source": [
        "Tensors are multi-dimensional arrays with a uniform type (called a dtype). You can see all supported dtypes at tf.dtypes.DType.\n",
        "\n",
        "If you're familiar with NumPy, tensors are (kind of) like np.arrays.\n",
        "\n",
        "All tensors are immutable like Python numbers and strings: you can never update the contents of a tensor, only create a new one."
      ],
      "metadata": {
        "id": "vHjT6LAV196j"
      }
    },
    {
      "cell_type": "code",
      "execution_count": 1,
      "metadata": {
        "id": "WzNTpsK6w4Iu"
      },
      "outputs": [],
      "source": [
        "import tensorflow as tf"
      ]
    },
    {
      "cell_type": "code",
      "source": [
        "print('tf version is: ',tf.__version__)\n",
        "print('tf executing: ',tf.executing_eagerly())"
      ],
      "metadata": {
        "colab": {
          "base_uri": "https://localhost:8080/"
        },
        "id": "4sVxxlnp1B9G",
        "outputId": "c2f7f2f4-cf9a-483b-8cb6-b0c7bd648dbc"
      },
      "execution_count": 2,
      "outputs": [
        {
          "output_type": "stream",
          "name": "stdout",
          "text": [
            "tf version is:  2.8.0\n",
            "tf executing:  True\n"
          ]
        }
      ]
    },
    {
      "cell_type": "markdown",
      "source": [
        "1. \"scalar\" or \"rank-0\" tensor . A scalar contains a single value, and no \"axes\"."
      ],
      "metadata": {
        "id": "fvDb-KZf2ha_"
      }
    },
    {
      "cell_type": "code",
      "source": [
        "rank0 = tf.constant(4)\n",
        "print(rank0)"
      ],
      "metadata": {
        "colab": {
          "base_uri": "https://localhost:8080/"
        },
        "id": "9LHM0I7y2kKJ",
        "outputId": "3f3e7a7b-d627-4dff-cd88-dd84cbd91e80"
      },
      "execution_count": 3,
      "outputs": [
        {
          "output_type": "stream",
          "name": "stdout",
          "text": [
            "tf.Tensor(4, shape=(), dtype=int32)\n"
          ]
        }
      ]
    },
    {
      "cell_type": "markdown",
      "source": [
        "2. vector\" or \"rank-1\" tensor is like a list of values. A vector has one axis:\n",
        "\n",
        "\n"
      ],
      "metadata": {
        "id": "nt2QdgOs281N"
      }
    },
    {
      "cell_type": "code",
      "source": [
        "rank1 = tf.constant([1,2,3])\n",
        "print(rank1)"
      ],
      "metadata": {
        "colab": {
          "base_uri": "https://localhost:8080/"
        },
        "id": "8oHx05Gf2-f2",
        "outputId": "24ad7777-e31e-4175-cef8-af8bafd8b1b3"
      },
      "execution_count": 4,
      "outputs": [
        {
          "output_type": "stream",
          "name": "stdout",
          "text": [
            "tf.Tensor([1 2 3], shape=(3,), dtype=int32)\n"
          ]
        }
      ]
    },
    {
      "cell_type": "code",
      "source": [
        "# Let's make this a float tensor\n",
        "rank1 = tf.constant([1.0,2.0,3.0])\n",
        "print(rank1)"
      ],
      "metadata": {
        "colab": {
          "base_uri": "https://localhost:8080/"
        },
        "id": "k6-fvlFs5TXZ",
        "outputId": "d724a1cb-e986-4d1e-83b5-0d65b1d98cd7"
      },
      "execution_count": 5,
      "outputs": [
        {
          "output_type": "stream",
          "name": "stdout",
          "text": [
            "tf.Tensor([1. 2. 3.], shape=(3,), dtype=float32)\n"
          ]
        }
      ]
    },
    {
      "cell_type": "markdown",
      "source": [
        "3. A \"matrix\" or \"rank-2\" tensor has two axes:"
      ],
      "metadata": {
        "id": "w4cE71AW3Sdi"
      }
    },
    {
      "cell_type": "code",
      "source": [
        "rank2 = tf.constant([[1,2],[3,4],[6,5]])\n",
        "print(rank2)"
      ],
      "metadata": {
        "colab": {
          "base_uri": "https://localhost:8080/"
        },
        "id": "oM1YFCea3RuZ",
        "outputId": "2a9b5433-c92b-4a84-e1c6-4a03d96f8868"
      },
      "execution_count": 6,
      "outputs": [
        {
          "output_type": "stream",
          "name": "stdout",
          "text": [
            "tf.Tensor(\n",
            "[[1 2]\n",
            " [3 4]\n",
            " [6 5]], shape=(3, 2), dtype=int32)\n"
          ]
        }
      ]
    },
    {
      "cell_type": "markdown",
      "source": [
        "4. Tensors may have more axes; here is a tensor with three axes:"
      ],
      "metadata": {
        "id": "_JiOT9gl6EUT"
      }
    },
    {
      "cell_type": "code",
      "source": [
        "rankn = tf.constant([[[1,2,3],\n",
        "                     [3,2,4]],\n",
        "                    [[2,1,3],\n",
        "                     [4,2,6]],\n",
        "                    [[1,6,2],\n",
        "                     [3,5,2]],]\n",
        "                    )\n",
        "print(rankn)"
      ],
      "metadata": {
        "colab": {
          "base_uri": "https://localhost:8080/"
        },
        "id": "KDpiiizf6IJM",
        "outputId": "deb69079-9d3e-4c2d-938e-ea2fde6a2f0d"
      },
      "execution_count": 7,
      "outputs": [
        {
          "output_type": "stream",
          "name": "stdout",
          "text": [
            "tf.Tensor(\n",
            "[[[1 2 3]\n",
            "  [3 2 4]]\n",
            "\n",
            " [[2 1 3]\n",
            "  [4 2 6]]\n",
            "\n",
            " [[1 6 2]\n",
            "  [3 5 2]]], shape=(3, 2, 3), dtype=int32)\n"
          ]
        }
      ]
    },
    {
      "cell_type": "markdown",
      "source": [
        "we can convert a tensor to a NumPy array either using np.array or the tensor.numpy method"
      ],
      "metadata": {
        "id": "7cbpq2mf7Vwo"
      }
    },
    {
      "cell_type": "code",
      "source": [
        "import numpy as np"
      ],
      "metadata": {
        "id": "Out4g71c61OV"
      },
      "execution_count": 8,
      "outputs": []
    },
    {
      "cell_type": "code",
      "source": [
        "np.array(rank2)"
      ],
      "metadata": {
        "colab": {
          "base_uri": "https://localhost:8080/"
        },
        "id": "0XGLa0qm7inU",
        "outputId": "a824ecfa-6c22-46d6-8ae3-41194896cba1"
      },
      "execution_count": 9,
      "outputs": [
        {
          "output_type": "execute_result",
          "data": {
            "text/plain": [
              "array([[1, 2],\n",
              "       [3, 4],\n",
              "       [6, 5]], dtype=int32)"
            ]
          },
          "metadata": {},
          "execution_count": 9
        }
      ]
    },
    {
      "cell_type": "code",
      "source": [
        "rankn.numpy()"
      ],
      "metadata": {
        "colab": {
          "base_uri": "https://localhost:8080/"
        },
        "id": "5UtMy7C07qxv",
        "outputId": "8d63d5ba-3152-4c8d-97cc-031509af0ffb"
      },
      "execution_count": 10,
      "outputs": [
        {
          "output_type": "execute_result",
          "data": {
            "text/plain": [
              "array([[[1, 2, 3],\n",
              "        [3, 2, 4]],\n",
              "\n",
              "       [[2, 1, 3],\n",
              "        [4, 2, 6]],\n",
              "\n",
              "       [[1, 6, 2],\n",
              "        [3, 5, 2]]], dtype=int32)"
            ]
          },
          "metadata": {},
          "execution_count": 10
        }
      ]
    },
    {
      "cell_type": "markdown",
      "source": [
        "instantiate TF:  TF provides a number of functions that instantiate basic tensors in memory. The simplest of these are tf.zeros() and tf.ones()."
      ],
      "metadata": {
        "id": "KGBcJfNf9Jmk"
      }
    },
    {
      "cell_type": "code",
      "source": [
        "tf_ones = tf.ones([3,2,4])\n",
        "print(tf_ones)"
      ],
      "metadata": {
        "colab": {
          "base_uri": "https://localhost:8080/"
        },
        "id": "HWgD3Crl9YGp",
        "outputId": "1e51981b-5d62-47cc-d7ef-c12a8c8887b0"
      },
      "execution_count": 11,
      "outputs": [
        {
          "output_type": "stream",
          "name": "stdout",
          "text": [
            "tf.Tensor(\n",
            "[[[1. 1. 1. 1.]\n",
            "  [1. 1. 1. 1.]]\n",
            "\n",
            " [[1. 1. 1. 1.]\n",
            "  [1. 1. 1. 1.]]\n",
            "\n",
            " [[1. 1. 1. 1.]\n",
            "  [1. 1. 1. 1.]]], shape=(3, 2, 4), dtype=float32)\n"
          ]
        }
      ]
    },
    {
      "cell_type": "code",
      "source": [
        "tf_zero = tf.zeros([3,2,4,5])\n",
        "print(tf_zero)"
      ],
      "metadata": {
        "colab": {
          "base_uri": "https://localhost:8080/"
        },
        "id": "B-ZxRVKW-DjS",
        "outputId": "9c153517-8ae3-497f-ebde-64d6bfaadcc1"
      },
      "execution_count": 12,
      "outputs": [
        {
          "output_type": "stream",
          "name": "stdout",
          "text": [
            "tf.Tensor(\n",
            "[[[[0. 0. 0. 0. 0.]\n",
            "   [0. 0. 0. 0. 0.]\n",
            "   [0. 0. 0. 0. 0.]\n",
            "   [0. 0. 0. 0. 0.]]\n",
            "\n",
            "  [[0. 0. 0. 0. 0.]\n",
            "   [0. 0. 0. 0. 0.]\n",
            "   [0. 0. 0. 0. 0.]\n",
            "   [0. 0. 0. 0. 0.]]]\n",
            "\n",
            "\n",
            " [[[0. 0. 0. 0. 0.]\n",
            "   [0. 0. 0. 0. 0.]\n",
            "   [0. 0. 0. 0. 0.]\n",
            "   [0. 0. 0. 0. 0.]]\n",
            "\n",
            "  [[0. 0. 0. 0. 0.]\n",
            "   [0. 0. 0. 0. 0.]\n",
            "   [0. 0. 0. 0. 0.]\n",
            "   [0. 0. 0. 0. 0.]]]\n",
            "\n",
            "\n",
            " [[[0. 0. 0. 0. 0.]\n",
            "   [0. 0. 0. 0. 0.]\n",
            "   [0. 0. 0. 0. 0.]\n",
            "   [0. 0. 0. 0. 0.]]\n",
            "\n",
            "  [[0. 0. 0. 0. 0.]\n",
            "   [0. 0. 0. 0. 0.]\n",
            "   [0. 0. 0. 0. 0.]\n",
            "   [0. 0. 0. 0. 0.]]]], shape=(3, 2, 4, 5), dtype=float32)\n"
          ]
        }
      ]
    },
    {
      "cell_type": "markdown",
      "source": [
        "**about shapes**\n",
        "Tensors have shapes. Some vocabulary:\n",
        "\n",
        "Shape: The length (number of elements) of each of the axes of a tensor.\n",
        "Rank: Number of tensor axes. A scalar has rank 0, a vector has rank 1, a matrix is rank 2.\n",
        "Axis or Dimension: A particular dimension of a tensor.\n",
        "Size: The total number of items in the tensor, the product shape vector."
      ],
      "metadata": {
        "id": "rrdpydSf7_VG"
      }
    },
    {
      "cell_type": "code",
      "source": [
        "print('Type of every element:',tf_zero.dtype)"
      ],
      "metadata": {
        "colab": {
          "base_uri": "https://localhost:8080/"
        },
        "id": "WzFguxE_8Lij",
        "outputId": "014fd3c1-7e6f-4e0f-a6b1-ef1b486e661d"
      },
      "execution_count": 13,
      "outputs": [
        {
          "output_type": "stream",
          "name": "stdout",
          "text": [
            "Type of every element: <dtype: 'float32'>\n"
          ]
        }
      ]
    },
    {
      "cell_type": "code",
      "source": [
        "print('Number of axes:',tf_zero.ndim)"
      ],
      "metadata": {
        "colab": {
          "base_uri": "https://localhost:8080/"
        },
        "id": "6GM1EAF9-9B2",
        "outputId": "8d3cd74a-4c9a-4fbe-b821-8788fef176d4"
      },
      "execution_count": 14,
      "outputs": [
        {
          "output_type": "stream",
          "name": "stdout",
          "text": [
            "Number of axes: 4\n"
          ]
        }
      ]
    },
    {
      "cell_type": "code",
      "source": [
        "print('Shape of the tensor:', tf_zero.shape)"
      ],
      "metadata": {
        "colab": {
          "base_uri": "https://localhost:8080/"
        },
        "id": "5FPoLpcd_L_P",
        "outputId": "04f6be20-b373-4df3-81d8-2d4afa02a035"
      },
      "execution_count": 15,
      "outputs": [
        {
          "output_type": "stream",
          "name": "stdout",
          "text": [
            "Shape of the tensor: (3, 2, 4, 5)\n"
          ]
        }
      ]
    },
    {
      "cell_type": "code",
      "source": [
        "print('Total number of elements: 3*2*4*5:',tf.size(tf_zero).numpy())"
      ],
      "metadata": {
        "colab": {
          "base_uri": "https://localhost:8080/"
        },
        "id": "ScYvJuZo_oQS",
        "outputId": "9327015e-0d3b-4834-b8d5-7f511009058e"
      },
      "execution_count": 16,
      "outputs": [
        {
          "output_type": "stream",
          "name": "stdout",
          "text": [
            "Total number of elements: 3*2*4*5: 120\n"
          ]
        }
      ]
    },
    {
      "cell_type": "code",
      "source": [
        "y = tf.ones((1,5,3,4))\n",
        "print(y)"
      ],
      "metadata": {
        "colab": {
          "base_uri": "https://localhost:8080/"
        },
        "id": "9T5AgplPDwhj",
        "outputId": "a87921ed-6748-47e7-fc69-7ab0f14d3d72"
      },
      "execution_count": 17,
      "outputs": [
        {
          "output_type": "stream",
          "name": "stdout",
          "text": [
            "tf.Tensor(\n",
            "[[[[1. 1. 1. 1.]\n",
            "   [1. 1. 1. 1.]\n",
            "   [1. 1. 1. 1.]]\n",
            "\n",
            "  [[1. 1. 1. 1.]\n",
            "   [1. 1. 1. 1.]\n",
            "   [1. 1. 1. 1.]]\n",
            "\n",
            "  [[1. 1. 1. 1.]\n",
            "   [1. 1. 1. 1.]\n",
            "   [1. 1. 1. 1.]]\n",
            "\n",
            "  [[1. 1. 1. 1.]\n",
            "   [1. 1. 1. 1.]\n",
            "   [1. 1. 1. 1.]]\n",
            "\n",
            "  [[1. 1. 1. 1.]\n",
            "   [1. 1. 1. 1.]\n",
            "   [1. 1. 1. 1.]]]], shape=(1, 5, 3, 4), dtype=float32)\n"
          ]
        }
      ]
    },
    {
      "cell_type": "markdown",
      "source": [
        "##**Operations with Tensors**\n",
        "\n",
        "\n",
        "1. Indexing\n",
        "\n",
        "\n",
        "An index is a numerical representation of an item’s position in a sequence. This sequence can refer to many things: a list, a string of characters, or any arbitrary sequence of values.\n",
        "indexes start at 0\n",
        "negative indices count backwards from the end\n",
        "colons, :, are used for slices: start:stop:step"
      ],
      "metadata": {
        "id": "wIfnU2OXE69T"
      }
    },
    {
      "cell_type": "code",
      "source": [
        "rank_1 = tf.constant([0, 1, 1, 2, 3, 5, 8, 13, 21, 34])\n",
        "print(rank_1)"
      ],
      "metadata": {
        "colab": {
          "base_uri": "https://localhost:8080/"
        },
        "id": "me_BIZVCE6Nc",
        "outputId": "3811ca55-ba1f-4882-f92f-4b71b8b324e9"
      },
      "execution_count": 18,
      "outputs": [
        {
          "output_type": "stream",
          "name": "stdout",
          "text": [
            "tf.Tensor([ 0  1  1  2  3  5  8 13 21 34], shape=(10,), dtype=int32)\n"
          ]
        }
      ]
    },
    {
      "cell_type": "code",
      "source": [
        "print(\"First element is:\",rank_1[0].numpy())"
      ],
      "metadata": {
        "colab": {
          "base_uri": "https://localhost:8080/"
        },
        "id": "Q8BAVCEuPLwE",
        "outputId": "bef63779-a9a5-498c-cb7a-4fe5a752eabf"
      },
      "execution_count": 19,
      "outputs": [
        {
          "output_type": "stream",
          "name": "stdout",
          "text": [
            "First element is: 0\n"
          ]
        }
      ]
    },
    {
      "cell_type": "code",
      "source": [
        "print('Last element is:',rank_1[-1].numpy())"
      ],
      "metadata": {
        "colab": {
          "base_uri": "https://localhost:8080/"
        },
        "id": "JMQoxnxrPTx6",
        "outputId": "641e9104-627a-4f2e-e6b6-6ff9a2c6afad"
      },
      "execution_count": 20,
      "outputs": [
        {
          "output_type": "stream",
          "name": "stdout",
          "text": [
            "Last element is: 34\n"
          ]
        }
      ]
    },
    {
      "cell_type": "code",
      "source": [
        "print(\"Elements in between the 1st and the last are:\",\n",
        "  rank_1[1:-1].numpy())"
      ],
      "metadata": {
        "colab": {
          "base_uri": "https://localhost:8080/"
        },
        "id": "7c4PdglYQBRK",
        "outputId": "fb8c913b-f3f8-4016-e25c-315036d18039"
      },
      "execution_count": 21,
      "outputs": [
        {
          "output_type": "stream",
          "name": "stdout",
          "text": [
            "Elements in between the 1st and the last are: [ 1  1  2  3  5  8 13 21]\n"
          ]
        }
      ]
    },
    {
      "cell_type": "code",
      "source": [
        "print(\"Everything:\", rank_1[:].numpy())       #copy"
      ],
      "metadata": {
        "colab": {
          "base_uri": "https://localhost:8080/"
        },
        "id": "g7FjirQ1n_Cs",
        "outputId": "15450dfb-523d-4831-e2e0-f144f2daea43"
      },
      "execution_count": 22,
      "outputs": [
        {
          "output_type": "stream",
          "name": "stdout",
          "text": [
            "Everything: [ 0  1  1  2  3  5  8 13 21 34]\n"
          ]
        }
      ]
    },
    {
      "cell_type": "code",
      "source": [
        "print(\"Reversed:\", rank_1[::-1].numpy())"
      ],
      "metadata": {
        "colab": {
          "base_uri": "https://localhost:8080/"
        },
        "id": "vo8HlJS9oIxy",
        "outputId": "aec89512-d87e-4a22-f001-31dc8b504320"
      },
      "execution_count": 23,
      "outputs": [
        {
          "output_type": "stream",
          "name": "stdout",
          "text": [
            "Reversed: [34 21 13  8  5  3  2  1  1  0]\n"
          ]
        }
      ]
    },
    {
      "cell_type": "code",
      "source": [
        "#Multi-axis indexing\n",
        "#Higher rank tensors are indexed by passing multiple indices.The exact same rules as in the single-axis case apply to each axis independently.\n",
        "\n",
        "\n",
        "print(rank2.numpy())"
      ],
      "metadata": {
        "colab": {
          "base_uri": "https://localhost:8080/"
        },
        "id": "PnlAm7I_pH5N",
        "outputId": "33196e30-9ceb-47ee-f2cb-f5ebbd9e868f"
      },
      "execution_count": 24,
      "outputs": [
        {
          "output_type": "stream",
          "name": "stdout",
          "text": [
            "[[1 2]\n",
            " [3 4]\n",
            " [6 5]]\n"
          ]
        }
      ]
    },
    {
      "cell_type": "code",
      "source": [
        "# Pull out a single value from a 2-rank tensor\n",
        "print(rank2[1, 1].numpy())"
      ],
      "metadata": {
        "colab": {
          "base_uri": "https://localhost:8080/"
        },
        "id": "VmIKTMC__p_V",
        "outputId": "9159e980-d2d0-4cec-af8a-59fb61f09cc7"
      },
      "execution_count": 26,
      "outputs": [
        {
          "output_type": "stream",
          "name": "stdout",
          "text": [
            "4\n"
          ]
        }
      ]
    },
    {
      "cell_type": "code",
      "source": [
        "print(\"Second row:\", rank2[1, :].numpy())"
      ],
      "metadata": {
        "colab": {
          "base_uri": "https://localhost:8080/"
        },
        "id": "2Er6zvwZ_1SM",
        "outputId": "2a04e8e5-1c80-4975-cd0e-9c8f808108cc"
      },
      "execution_count": 27,
      "outputs": [
        {
          "output_type": "stream",
          "name": "stdout",
          "text": [
            "Second row: [3 4]\n"
          ]
        }
      ]
    },
    {
      "cell_type": "code",
      "source": [
        "print(\"Last row:\", rank2[-1, :].numpy())"
      ],
      "metadata": {
        "colab": {
          "base_uri": "https://localhost:8080/"
        },
        "id": "T9NzrGOTAFcj",
        "outputId": "ffaa7ecb-7df0-4a42-8533-6d6601877ab3"
      },
      "execution_count": 29,
      "outputs": [
        {
          "output_type": "stream",
          "name": "stdout",
          "text": [
            "Last row: [6 5]\n"
          ]
        }
      ]
    },
    {
      "cell_type": "markdown",
      "source": [
        "**Manipulating Shapes**\n",
        "\n",
        "\n",
        "The tf.reshape does not change the order of or the total number of elements in the tensor, and so it can reuse the underlying data buffer. This makes it a fast operation independent of how big of a tensor it is operating on.\n"
      ],
      "metadata": {
        "id": "rfpiwafXAqlB"
      }
    },
    {
      "cell_type": "code",
      "source": [
        "x = tf.constant([[1], [2], [3]])\n",
        "print(x)  "
      ],
      "metadata": {
        "colab": {
          "base_uri": "https://localhost:8080/"
        },
        "id": "0OGwbl-KAugY",
        "outputId": "1e2eb579-e614-47cb-a14c-70f92657441a"
      },
      "execution_count": 30,
      "outputs": [
        {
          "output_type": "stream",
          "name": "stdout",
          "text": [
            "tf.Tensor(\n",
            "[[1]\n",
            " [2]\n",
            " [3]], shape=(3, 1), dtype=int32)\n"
          ]
        }
      ]
    },
    {
      "cell_type": "code",
      "source": [
        "# You can reshape a tensor to a new shape.\n",
        "# Note that you're passing in a list\n",
        "\n",
        "reshaped = tf.reshape(x, [1, 3])\n",
        "print(reshaped)"
      ],
      "metadata": {
        "colab": {
          "base_uri": "https://localhost:8080/"
        },
        "id": "56aSBQOmBb1P",
        "outputId": "e00c28fc-693f-46cf-ee35-a6ba69f51379"
      },
      "execution_count": 33,
      "outputs": [
        {
          "output_type": "stream",
          "name": "stdout",
          "text": [
            "tf.Tensor([[1 2 3]], shape=(1, 3), dtype=int32)\n"
          ]
        }
      ]
    },
    {
      "cell_type": "code",
      "source": [
        "# If we pass -1 passed in the `shape` argument, then we flatten our Tensor.\n",
        "print('The shape of the flattened Tensor object is:', tf.reshape(x, [-1]))"
      ],
      "metadata": {
        "colab": {
          "base_uri": "https://localhost:8080/"
        },
        "id": "H7ZGX0e5Cdzw",
        "outputId": "658ce1a8-ea0a-4657-babe-fae053d7bc11"
      },
      "execution_count": 34,
      "outputs": [
        {
          "output_type": "stream",
          "name": "stdout",
          "text": [
            "The shape of the flattened Tensor object is: tf.Tensor([1 2 3], shape=(3,), dtype=int32)\n"
          ]
        }
      ]
    },
    {
      "cell_type": "markdown",
      "source": [
        "Reshaping will \"work\" for any new shape with the same total number of elements, but it will not do anything useful if you do not respect the order of the axes.\n",
        "\n"
      ],
      "metadata": {
        "id": "bDyN-PvQCMgt"
      }
    },
    {
      "cell_type": "markdown",
      "source": [
        "**Basic Operations with Tensors**\n",
        "\n",
        "You can easily do basic math operations on tensors such as:\n",
        "\n",
        "  Addition\n",
        "  Element-wise Multiplication\n",
        "  Matrix Multiplication\n",
        "  Finding the Maximum or Minimum\n",
        "  Finding the Index of the Max Element\n",
        "  Computing Softmax Value"
      ],
      "metadata": {
        "id": "9qhXxaJECnMC"
      }
    },
    {
      "cell_type": "code",
      "source": [
        "a = tf.constant([[2, 4], \n",
        "                 [6, 8]], dtype=tf.float32)\n",
        "b = tf.constant([[1, 3], \n",
        "                 [5, 7]], dtype=tf.float32)\n",
        "\n",
        "print(a)\n",
        "print(b)"
      ],
      "metadata": {
        "colab": {
          "base_uri": "https://localhost:8080/"
        },
        "id": "TB43EtgXCN_S",
        "outputId": "edc20e16-5532-45ab-b6aa-3da4483db6f3"
      },
      "execution_count": 36,
      "outputs": [
        {
          "output_type": "stream",
          "name": "stdout",
          "text": [
            "tf.Tensor(\n",
            "[[2. 4.]\n",
            " [6. 8.]], shape=(2, 2), dtype=float32)\n",
            "tf.Tensor(\n",
            "[[1. 3.]\n",
            " [5. 7.]], shape=(2, 2), dtype=float32)\n"
          ]
        }
      ]
    },
    {
      "cell_type": "code",
      "source": [
        "add_tensors = tf.add(a,b)\n",
        "print(add_tensors)"
      ],
      "metadata": {
        "colab": {
          "base_uri": "https://localhost:8080/"
        },
        "id": "SbPtmfL3DIvY",
        "outputId": "031d2c17-7450-4dcb-ebb6-efa82b0fc473"
      },
      "execution_count": 37,
      "outputs": [
        {
          "output_type": "stream",
          "name": "stdout",
          "text": [
            "tf.Tensor(\n",
            "[[ 3.  7.]\n",
            " [11. 15.]], shape=(2, 2), dtype=float32)\n"
          ]
        }
      ]
    },
    {
      "cell_type": "code",
      "source": [
        "# We can use `tf.multiply()` function and pass the Tensors as arguments.\n",
        "multiply_tensors = tf.multiply(a,b)\n",
        "print(multiply_tensors)"
      ],
      "metadata": {
        "colab": {
          "base_uri": "https://localhost:8080/"
        },
        "id": "-nTharu8DPRN",
        "outputId": "3d88552e-fd09-4da7-9d91-3a4fee04e803"
      },
      "execution_count": 38,
      "outputs": [
        {
          "output_type": "stream",
          "name": "stdout",
          "text": [
            "tf.Tensor(\n",
            "[[ 2. 12.]\n",
            " [30. 56.]], shape=(2, 2), dtype=float32)\n"
          ]
        }
      ]
    },
    {
      "cell_type": "code",
      "source": [
        "# We can use `tf.matmul()` function and pass the Tensors as arguments.\n",
        "matmul_tensors = tf.matmul(a,b)\n",
        "print(matmul_tensors)"
      ],
      "metadata": {
        "colab": {
          "base_uri": "https://localhost:8080/"
        },
        "id": "rQQyt7qQDZky",
        "outputId": "2ddf4405-b393-4395-d5ce-670dbda984fa"
      },
      "execution_count": 39,
      "outputs": [
        {
          "output_type": "stream",
          "name": "stdout",
          "text": [
            "tf.Tensor(\n",
            "[[22. 34.]\n",
            " [46. 74.]], shape=(2, 2), dtype=float32)\n"
          ]
        }
      ]
    },
    {
      "cell_type": "code",
      "source": [
        "# Finding the Maximum or Minimum is possible with `tf.reduce_max()` and `tf.reduce_min()` function\n",
        "print(\"The Max value of the tensor object b is:\",\n",
        "  tf.reduce_max(b).numpy())\n",
        "\n",
        "# Finding the Index of the Max Element is possible with `tf.argmax()` function\n",
        "print(\"The index position of the max element of the tensor object b is:\",\n",
        "  tf.argmax(b).numpy())\n",
        "\n",
        "# Computing softmax is possible with `tf.nn.softmax()` function\n",
        "print(\"The softmax computation result of the tensor object b is:\",\n",
        "  tf.nn.softmax(b).numpy())"
      ],
      "metadata": {
        "colab": {
          "base_uri": "https://localhost:8080/"
        },
        "id": "LU1VDXkbDjih",
        "outputId": "43ae0238-9c89-4b22-a2e5-bdb4d59c7808"
      },
      "execution_count": 40,
      "outputs": [
        {
          "output_type": "stream",
          "name": "stdout",
          "text": [
            "The Max value of the tensor object b is: 7.0\n",
            "The index position of the max element of the tensor object b is: [1 1]\n",
            "The softmax computation result of the tensor object b is: [[0.11920292 0.880797  ]\n",
            " [0.11920292 0.880797  ]]\n"
          ]
        }
      ]
    },
    {
      "cell_type": "markdown",
      "source": [
        "Broadcasting\n",
        "\n",
        "When we try to do combined operations using multiple Tensor objects, the smaller Tensors can stretch out automatically to fit larger tensors, just as NumPy arrays"
      ],
      "metadata": {
        "id": "DTz1wFS7D0yX"
      }
    },
    {
      "cell_type": "code",
      "source": [
        "m = tf.constant([5])\n",
        "\n",
        "n = tf.constant([[1,2],[3,4]])\n",
        "\n",
        "print(m)\n",
        "print(n)"
      ],
      "metadata": {
        "colab": {
          "base_uri": "https://localhost:8080/"
        },
        "id": "ZARVq9-PETAe",
        "outputId": "40750c38-95b5-4606-b95a-eceafd0e0bde"
      },
      "execution_count": 41,
      "outputs": [
        {
          "output_type": "stream",
          "name": "stdout",
          "text": [
            "tf.Tensor([5], shape=(1,), dtype=int32)\n",
            "tf.Tensor(\n",
            "[[1 2]\n",
            " [3 4]], shape=(2, 2), dtype=int32)\n"
          ]
        }
      ]
    },
    {
      "cell_type": "code",
      "source": [
        "print(tf.multiply(m, n))"
      ],
      "metadata": {
        "colab": {
          "base_uri": "https://localhost:8080/"
        },
        "id": "fO395C6dEd02",
        "outputId": "b02f3621-2455-4643-9ec7-9ecc3c707560"
      },
      "execution_count": 42,
      "outputs": [
        {
          "output_type": "stream",
          "name": "stdout",
          "text": [
            "tf.Tensor(\n",
            "[[ 5 10]\n",
            " [15 20]], shape=(2, 2), dtype=int32)\n"
          ]
        }
      ]
    },
    {
      "cell_type": "markdown",
      "source": [
        "##**Types of Tensors**"
      ],
      "metadata": {
        "id": "cg6G27aSEkJN"
      }
    },
    {
      "cell_type": "markdown",
      "source": [
        "Ragged Tensors\n",
        "String Tensors\n",
        "Sparse Tensors"
      ],
      "metadata": {
        "id": "fQHPsMQnEn6-"
      }
    },
    {
      "cell_type": "code",
      "source": [
        "#Ragged tensors are tensors with different numbers of elements along the size axis\n",
        "ragged_list = [[1, 2, 3],[4, 5],[6]]\n",
        "\n",
        "ragged_tensor = tf.ragged.constant(ragged_list)\n",
        "\n",
        "print(ragged_tensor)"
      ],
      "metadata": {
        "colab": {
          "base_uri": "https://localhost:8080/"
        },
        "id": "LMqc9UCfExue",
        "outputId": "f2c129df-9162-43f1-fc58-16d2e1483ca3"
      },
      "execution_count": 43,
      "outputs": [
        {
          "output_type": "stream",
          "name": "stdout",
          "text": [
            "<tf.RaggedTensor [[1, 2, 3], [4, 5], [6]]>\n"
          ]
        }
      ]
    },
    {
      "cell_type": "code",
      "source": [
        "string_tensor = tf.constant([\"With this\", \n",
        "                             \"code, I am\", \n",
        "                             \"creating a String Tensor\"])\n",
        "\n",
        "print(string_tensor)"
      ],
      "metadata": {
        "colab": {
          "base_uri": "https://localhost:8080/"
        },
        "id": "RaIUez2zFKQc",
        "outputId": "ff3d042a-80c8-4f20-b86a-17efe009964e"
      },
      "execution_count": 44,
      "outputs": [
        {
          "output_type": "stream",
          "name": "stdout",
          "text": [
            "tf.Tensor([b'With this' b'code, I am' b'creating a String Tensor'], shape=(3,), dtype=string)\n"
          ]
        }
      ]
    },
    {
      "cell_type": "code",
      "source": [
        "#Sparse Tensors are rectangular Tensors for sparse data. When you have holes (i.e., Null values) in your data, Sparse Tensors are to-go objects\n",
        "\n",
        "\n",
        "sparse_tensor = tf.sparse.SparseTensor(indices=[[0, 0], [2, 2], [4, 4]], \n",
        "                                       values=[25, 50, 100], \n",
        "                                       dense_shape=[5, 5])\n",
        "\n",
        "# We can convert sparse tensors to dense\n",
        "print(tf.sparse.to_dense(sparse_tensor))"
      ],
      "metadata": {
        "colab": {
          "base_uri": "https://localhost:8080/"
        },
        "id": "0Wauw4VoFXpu",
        "outputId": "f9169822-1b38-49cc-cc86-f1b69f4de3ef"
      },
      "execution_count": 45,
      "outputs": [
        {
          "output_type": "stream",
          "name": "stdout",
          "text": [
            "tf.Tensor(\n",
            "[[ 25   0   0   0   0]\n",
            " [  0   0   0   0   0]\n",
            " [  0   0  50   0   0]\n",
            " [  0   0   0   0   0]\n",
            " [  0   0   0   0 100]], shape=(5, 5), dtype=int32)\n"
          ]
        }
      ]
    }
  ]
}