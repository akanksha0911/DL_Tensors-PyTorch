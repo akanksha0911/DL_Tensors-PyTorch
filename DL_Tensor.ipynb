{
  "nbformat": 4,
  "nbformat_minor": 0,
  "metadata": {
    "colab": {
      "name": "DL_Tensor.ipynb",
      "provenance": [],
      "collapsed_sections": [],
      "authorship_tag": "ABX9TyMktH4a1SYwaCzasS2mbGU4",
      "include_colab_link": true
    },
    "kernelspec": {
      "name": "python3",
      "display_name": "Python 3"
    },
    "language_info": {
      "name": "python"
    },
    "accelerator": "GPU"
  },
  "cells": [
    {
      "cell_type": "markdown",
      "metadata": {
        "id": "view-in-github",
        "colab_type": "text"
      },
      "source": [
        "<a href=\"https://colab.research.google.com/github/akanksha0911/DL_Tensors-PyTorch/blob/main/DL_Tensor.ipynb\" target=\"_parent\"><img src=\"https://colab.research.google.com/assets/colab-badge.svg\" alt=\"Open In Colab\"/></a>"
      ]
    },
    {
      "cell_type": "markdown",
      "source": [
        "##**Tesnor Basics**"
      ],
      "metadata": {
        "id": "gyiVItu9xGJZ"
      }
    },
    {
      "cell_type": "markdown",
      "source": [
        "Tensors are multi-dimensional arrays with a uniform type (called a dtype). You can see all supported dtypes at tf.dtypes.DType.\n",
        "\n",
        "If you're familiar with NumPy, tensors are (kind of) like np.arrays.\n",
        "\n",
        "All tensors are immutable like Python numbers and strings: you can never update the contents of a tensor, only create a new one."
      ],
      "metadata": {
        "id": "vHjT6LAV196j"
      }
    },
    {
      "cell_type": "code",
      "execution_count": 1,
      "metadata": {
        "id": "WzNTpsK6w4Iu"
      },
      "outputs": [],
      "source": [
        "import tensorflow as tf"
      ]
    },
    {
      "cell_type": "code",
      "source": [
        "print('tf version is: ',tf.__version__)\n",
        "print('tf executing: ',tf.executing_eagerly())"
      ],
      "metadata": {
        "colab": {
          "base_uri": "https://localhost:8080/"
        },
        "id": "4sVxxlnp1B9G",
        "outputId": "4cf9092f-23b6-4869-ab63-a1abcfed6ebd"
      },
      "execution_count": 2,
      "outputs": [
        {
          "output_type": "stream",
          "name": "stdout",
          "text": [
            "tf version is:  2.8.0\n",
            "tf executing:  True\n"
          ]
        }
      ]
    },
    {
      "cell_type": "markdown",
      "source": [
        "1. \"scalar\" or \"rank-0\" tensor . A scalar contains a single value, and no \"axes\"."
      ],
      "metadata": {
        "id": "fvDb-KZf2ha_"
      }
    },
    {
      "cell_type": "code",
      "source": [
        "rank0 = tf.constant(4)\n",
        "print(rank0)"
      ],
      "metadata": {
        "colab": {
          "base_uri": "https://localhost:8080/"
        },
        "id": "9LHM0I7y2kKJ",
        "outputId": "708ec2ae-9d6f-4421-f03d-417af932a4e4"
      },
      "execution_count": 3,
      "outputs": [
        {
          "output_type": "stream",
          "name": "stdout",
          "text": [
            "tf.Tensor(4, shape=(), dtype=int32)\n"
          ]
        }
      ]
    },
    {
      "cell_type": "markdown",
      "source": [
        "2. vector\" or \"rank-1\" tensor is like a list of values. A vector has one axis:\n",
        "\n",
        "\n"
      ],
      "metadata": {
        "id": "nt2QdgOs281N"
      }
    },
    {
      "cell_type": "code",
      "source": [
        "rank1 = tf.constant([1,2,3])\n",
        "print(rank1)"
      ],
      "metadata": {
        "colab": {
          "base_uri": "https://localhost:8080/"
        },
        "id": "8oHx05Gf2-f2",
        "outputId": "aa2299ff-9512-4382-dabd-36e830ab4d7e"
      },
      "execution_count": 4,
      "outputs": [
        {
          "output_type": "stream",
          "name": "stdout",
          "text": [
            "tf.Tensor([1 2 3], shape=(3,), dtype=int32)\n"
          ]
        }
      ]
    },
    {
      "cell_type": "code",
      "source": [
        "# Let's make this a float tensor\n",
        "rank1 = tf.constant([1.0,2.0,3.0])\n",
        "print(rank1)"
      ],
      "metadata": {
        "colab": {
          "base_uri": "https://localhost:8080/"
        },
        "id": "k6-fvlFs5TXZ",
        "outputId": "93f45c0d-4067-46ae-cef8-494323e3b57c"
      },
      "execution_count": 5,
      "outputs": [
        {
          "output_type": "stream",
          "name": "stdout",
          "text": [
            "tf.Tensor([1. 2. 3.], shape=(3,), dtype=float32)\n"
          ]
        }
      ]
    },
    {
      "cell_type": "markdown",
      "source": [
        "3. A \"matrix\" or \"rank-2\" tensor has two axes:"
      ],
      "metadata": {
        "id": "w4cE71AW3Sdi"
      }
    },
    {
      "cell_type": "code",
      "source": [
        "rank2 = tf.constant([[1,2],[3,4],[6,5]])\n",
        "print(rank2)"
      ],
      "metadata": {
        "colab": {
          "base_uri": "https://localhost:8080/"
        },
        "id": "oM1YFCea3RuZ",
        "outputId": "f0664a9d-9e8f-4d91-bb04-8af1eac5151f"
      },
      "execution_count": 6,
      "outputs": [
        {
          "output_type": "stream",
          "name": "stdout",
          "text": [
            "tf.Tensor(\n",
            "[[1 2]\n",
            " [3 4]\n",
            " [6 5]], shape=(3, 2), dtype=int32)\n"
          ]
        }
      ]
    },
    {
      "cell_type": "markdown",
      "source": [
        "4. Tensors may have more axes; here is a tensor with three axes:"
      ],
      "metadata": {
        "id": "_JiOT9gl6EUT"
      }
    },
    {
      "cell_type": "code",
      "source": [
        "rankn = tf.constant([[[1,2,3],\n",
        "                     [3,2,4]],\n",
        "                    [[2,1,3],\n",
        "                     [4,2,6]],\n",
        "                    [[1,6,2],\n",
        "                     [3,5,2]],]\n",
        "                    )\n",
        "print(rankn)"
      ],
      "metadata": {
        "colab": {
          "base_uri": "https://localhost:8080/"
        },
        "id": "KDpiiizf6IJM",
        "outputId": "44836f8f-b17b-4ebe-bf88-50c2f54c2028"
      },
      "execution_count": 7,
      "outputs": [
        {
          "output_type": "stream",
          "name": "stdout",
          "text": [
            "tf.Tensor(\n",
            "[[[1 2 3]\n",
            "  [3 2 4]]\n",
            "\n",
            " [[2 1 3]\n",
            "  [4 2 6]]\n",
            "\n",
            " [[1 6 2]\n",
            "  [3 5 2]]], shape=(3, 2, 3), dtype=int32)\n"
          ]
        }
      ]
    },
    {
      "cell_type": "markdown",
      "source": [
        "we can convert a tensor to a NumPy array either using np.array or the tensor.numpy method"
      ],
      "metadata": {
        "id": "7cbpq2mf7Vwo"
      }
    },
    {
      "cell_type": "code",
      "source": [
        "import numpy as np"
      ],
      "metadata": {
        "id": "Out4g71c61OV"
      },
      "execution_count": 8,
      "outputs": []
    },
    {
      "cell_type": "code",
      "source": [
        "np.array(rank2)"
      ],
      "metadata": {
        "colab": {
          "base_uri": "https://localhost:8080/"
        },
        "id": "0XGLa0qm7inU",
        "outputId": "fcf37f84-7865-4dba-dc78-0100c81ec7bc"
      },
      "execution_count": 9,
      "outputs": [
        {
          "output_type": "execute_result",
          "data": {
            "text/plain": [
              "array([[1, 2],\n",
              "       [3, 4],\n",
              "       [6, 5]], dtype=int32)"
            ]
          },
          "metadata": {},
          "execution_count": 9
        }
      ]
    },
    {
      "cell_type": "code",
      "source": [
        "rankn.numpy()"
      ],
      "metadata": {
        "colab": {
          "base_uri": "https://localhost:8080/"
        },
        "id": "5UtMy7C07qxv",
        "outputId": "4957183c-e81f-4b10-9f4a-7436177f8664"
      },
      "execution_count": 10,
      "outputs": [
        {
          "output_type": "execute_result",
          "data": {
            "text/plain": [
              "array([[[1, 2, 3],\n",
              "        [3, 2, 4]],\n",
              "\n",
              "       [[2, 1, 3],\n",
              "        [4, 2, 6]],\n",
              "\n",
              "       [[1, 6, 2],\n",
              "        [3, 5, 2]]], dtype=int32)"
            ]
          },
          "metadata": {},
          "execution_count": 10
        }
      ]
    },
    {
      "cell_type": "markdown",
      "source": [
        "instantiate TF:  TF provides a number of functions that instantiate basic tensors in memory. The simplest of these are tf.zeros() and tf.ones()."
      ],
      "metadata": {
        "id": "KGBcJfNf9Jmk"
      }
    },
    {
      "cell_type": "code",
      "source": [
        "tf_ones = tf.ones([3,2,4])\n",
        "print(tf_ones)"
      ],
      "metadata": {
        "colab": {
          "base_uri": "https://localhost:8080/"
        },
        "id": "HWgD3Crl9YGp",
        "outputId": "341172e4-c3cd-4922-e6ee-3f0b47646c15"
      },
      "execution_count": 11,
      "outputs": [
        {
          "output_type": "stream",
          "name": "stdout",
          "text": [
            "tf.Tensor(\n",
            "[[[1. 1. 1. 1.]\n",
            "  [1. 1. 1. 1.]]\n",
            "\n",
            " [[1. 1. 1. 1.]\n",
            "  [1. 1. 1. 1.]]\n",
            "\n",
            " [[1. 1. 1. 1.]\n",
            "  [1. 1. 1. 1.]]], shape=(3, 2, 4), dtype=float32)\n"
          ]
        }
      ]
    },
    {
      "cell_type": "code",
      "source": [
        "tf_zero = tf.zeros([3,2,4,5])\n",
        "print(tf_zero)"
      ],
      "metadata": {
        "colab": {
          "base_uri": "https://localhost:8080/"
        },
        "id": "B-ZxRVKW-DjS",
        "outputId": "8eb6a50a-b706-4673-b996-0d763495e6a3"
      },
      "execution_count": 12,
      "outputs": [
        {
          "output_type": "stream",
          "name": "stdout",
          "text": [
            "tf.Tensor(\n",
            "[[[[0. 0. 0. 0. 0.]\n",
            "   [0. 0. 0. 0. 0.]\n",
            "   [0. 0. 0. 0. 0.]\n",
            "   [0. 0. 0. 0. 0.]]\n",
            "\n",
            "  [[0. 0. 0. 0. 0.]\n",
            "   [0. 0. 0. 0. 0.]\n",
            "   [0. 0. 0. 0. 0.]\n",
            "   [0. 0. 0. 0. 0.]]]\n",
            "\n",
            "\n",
            " [[[0. 0. 0. 0. 0.]\n",
            "   [0. 0. 0. 0. 0.]\n",
            "   [0. 0. 0. 0. 0.]\n",
            "   [0. 0. 0. 0. 0.]]\n",
            "\n",
            "  [[0. 0. 0. 0. 0.]\n",
            "   [0. 0. 0. 0. 0.]\n",
            "   [0. 0. 0. 0. 0.]\n",
            "   [0. 0. 0. 0. 0.]]]\n",
            "\n",
            "\n",
            " [[[0. 0. 0. 0. 0.]\n",
            "   [0. 0. 0. 0. 0.]\n",
            "   [0. 0. 0. 0. 0.]\n",
            "   [0. 0. 0. 0. 0.]]\n",
            "\n",
            "  [[0. 0. 0. 0. 0.]\n",
            "   [0. 0. 0. 0. 0.]\n",
            "   [0. 0. 0. 0. 0.]\n",
            "   [0. 0. 0. 0. 0.]]]], shape=(3, 2, 4, 5), dtype=float32)\n"
          ]
        }
      ]
    },
    {
      "cell_type": "markdown",
      "source": [
        "**about shapes**\n",
        "Tensors have shapes. Some vocabulary:\n",
        "\n",
        "Shape: The length (number of elements) of each of the axes of a tensor.\n",
        "Rank: Number of tensor axes. A scalar has rank 0, a vector has rank 1, a matrix is rank 2.\n",
        "Axis or Dimension: A particular dimension of a tensor.\n",
        "Size: The total number of items in the tensor, the product shape vector."
      ],
      "metadata": {
        "id": "rrdpydSf7_VG"
      }
    },
    {
      "cell_type": "code",
      "source": [
        "print('Type of every element:',tf_zero.dtype)"
      ],
      "metadata": {
        "colab": {
          "base_uri": "https://localhost:8080/"
        },
        "id": "WzFguxE_8Lij",
        "outputId": "32ae5486-34c6-47b4-dcb4-d5324a9f275b"
      },
      "execution_count": 13,
      "outputs": [
        {
          "output_type": "stream",
          "name": "stdout",
          "text": [
            "Type of every element: <dtype: 'float32'>\n"
          ]
        }
      ]
    },
    {
      "cell_type": "code",
      "source": [
        "print('Number of axes:',tf_zero.ndim)"
      ],
      "metadata": {
        "colab": {
          "base_uri": "https://localhost:8080/"
        },
        "id": "6GM1EAF9-9B2",
        "outputId": "d24e0cb2-2e9d-440a-e3af-e8fce17e0054"
      },
      "execution_count": 14,
      "outputs": [
        {
          "output_type": "stream",
          "name": "stdout",
          "text": [
            "Number of axes: 4\n"
          ]
        }
      ]
    },
    {
      "cell_type": "code",
      "source": [
        "print('Shape of the tensor:', tf_zero.shape)"
      ],
      "metadata": {
        "colab": {
          "base_uri": "https://localhost:8080/"
        },
        "id": "5FPoLpcd_L_P",
        "outputId": "a8de2a07-4c9b-4de1-b999-5baab1552f6b"
      },
      "execution_count": 15,
      "outputs": [
        {
          "output_type": "stream",
          "name": "stdout",
          "text": [
            "Shape of the tensor: (3, 2, 4, 5)\n"
          ]
        }
      ]
    },
    {
      "cell_type": "code",
      "source": [
        "print('Total number of elements: 3*2*4*5:',tf.size(tf_zero).numpy())"
      ],
      "metadata": {
        "colab": {
          "base_uri": "https://localhost:8080/"
        },
        "id": "ScYvJuZo_oQS",
        "outputId": "a005767c-94f0-46f5-f2e7-782377a2dde2"
      },
      "execution_count": 16,
      "outputs": [
        {
          "output_type": "stream",
          "name": "stdout",
          "text": [
            "Total number of elements: 3*2*4*5: 120\n"
          ]
        }
      ]
    },
    {
      "cell_type": "code",
      "source": [
        "y = tf.ones((1,5,3,4))\n",
        "print(y)"
      ],
      "metadata": {
        "colab": {
          "base_uri": "https://localhost:8080/"
        },
        "id": "9T5AgplPDwhj",
        "outputId": "80291d3b-70c9-4225-eae1-858f11b01dd9"
      },
      "execution_count": 17,
      "outputs": [
        {
          "output_type": "stream",
          "name": "stdout",
          "text": [
            "tf.Tensor(\n",
            "[[[[1. 1. 1. 1.]\n",
            "   [1. 1. 1. 1.]\n",
            "   [1. 1. 1. 1.]]\n",
            "\n",
            "  [[1. 1. 1. 1.]\n",
            "   [1. 1. 1. 1.]\n",
            "   [1. 1. 1. 1.]]\n",
            "\n",
            "  [[1. 1. 1. 1.]\n",
            "   [1. 1. 1. 1.]\n",
            "   [1. 1. 1. 1.]]\n",
            "\n",
            "  [[1. 1. 1. 1.]\n",
            "   [1. 1. 1. 1.]\n",
            "   [1. 1. 1. 1.]]\n",
            "\n",
            "  [[1. 1. 1. 1.]\n",
            "   [1. 1. 1. 1.]\n",
            "   [1. 1. 1. 1.]]]], shape=(1, 5, 3, 4), dtype=float32)\n"
          ]
        }
      ]
    },
    {
      "cell_type": "markdown",
      "source": [
        "##**Operations with Tensors**\n",
        "\n",
        "\n",
        "1. Indexing\n",
        "\n",
        "\n",
        "An index is a numerical representation of an item’s position in a sequence. This sequence can refer to many things: a list, a string of characters, or any arbitrary sequence of values.\n",
        "indexes start at 0\n",
        "negative indices count backwards from the end\n",
        "colons, :, are used for slices: start:stop:step"
      ],
      "metadata": {
        "id": "wIfnU2OXE69T"
      }
    },
    {
      "cell_type": "code",
      "source": [
        "rank_1 = tf.constant([0, 1, 1, 2, 3, 5, 8, 13, 21, 34])\n",
        "print(rank_1)"
      ],
      "metadata": {
        "colab": {
          "base_uri": "https://localhost:8080/"
        },
        "id": "me_BIZVCE6Nc",
        "outputId": "f7169928-a6a2-481a-84c9-4135608100fd"
      },
      "execution_count": 18,
      "outputs": [
        {
          "output_type": "stream",
          "name": "stdout",
          "text": [
            "tf.Tensor([ 0  1  1  2  3  5  8 13 21 34], shape=(10,), dtype=int32)\n"
          ]
        }
      ]
    },
    {
      "cell_type": "code",
      "source": [
        "print(\"First element is:\",rank_1[0].numpy())"
      ],
      "metadata": {
        "colab": {
          "base_uri": "https://localhost:8080/"
        },
        "id": "Q8BAVCEuPLwE",
        "outputId": "a92a8f3e-866a-4a33-e1bf-15c0f711b207"
      },
      "execution_count": 19,
      "outputs": [
        {
          "output_type": "stream",
          "name": "stdout",
          "text": [
            "First element is: 0\n"
          ]
        }
      ]
    },
    {
      "cell_type": "code",
      "source": [
        "print('Last element is:',rank_1[-1].numpy())"
      ],
      "metadata": {
        "colab": {
          "base_uri": "https://localhost:8080/"
        },
        "id": "JMQoxnxrPTx6",
        "outputId": "d4eb7dad-536d-44d5-9aaa-946ae488994b"
      },
      "execution_count": 20,
      "outputs": [
        {
          "output_type": "stream",
          "name": "stdout",
          "text": [
            "Last element is: 34\n"
          ]
        }
      ]
    },
    {
      "cell_type": "code",
      "source": [
        "print(\"Elements in between the 1st and the last are:\",\n",
        "  rank_1[1:-1].numpy())"
      ],
      "metadata": {
        "colab": {
          "base_uri": "https://localhost:8080/"
        },
        "id": "7c4PdglYQBRK",
        "outputId": "d1619977-0f71-4ece-81b0-ed739216c6aa"
      },
      "execution_count": 21,
      "outputs": [
        {
          "output_type": "stream",
          "name": "stdout",
          "text": [
            "Elements in between the 1st and the last are: [ 1  1  2  3  5  8 13 21]\n"
          ]
        }
      ]
    },
    {
      "cell_type": "code",
      "source": [
        "print(\"Everything:\", rank_1[:].numpy())       #copy"
      ],
      "metadata": {
        "colab": {
          "base_uri": "https://localhost:8080/"
        },
        "id": "g7FjirQ1n_Cs",
        "outputId": "c3d25b4c-d13b-4124-d364-379fe2edf665"
      },
      "execution_count": 22,
      "outputs": [
        {
          "output_type": "stream",
          "name": "stdout",
          "text": [
            "Everything: [ 0  1  1  2  3  5  8 13 21 34]\n"
          ]
        }
      ]
    },
    {
      "cell_type": "code",
      "source": [
        "print(\"Reversed:\", rank_1[::-1].numpy())"
      ],
      "metadata": {
        "colab": {
          "base_uri": "https://localhost:8080/"
        },
        "id": "vo8HlJS9oIxy",
        "outputId": "1d0be291-62dd-44ad-a6bf-895abc0ffb02"
      },
      "execution_count": 23,
      "outputs": [
        {
          "output_type": "stream",
          "name": "stdout",
          "text": [
            "Reversed: [34 21 13  8  5  3  2  1  1  0]\n"
          ]
        }
      ]
    },
    {
      "cell_type": "code",
      "source": [
        "#Multi-axis indexing\n",
        "#Higher rank tensors are indexed by passing multiple indices.The exact same rules as in the single-axis case apply to each axis independently.\n",
        "\n",
        "\n",
        "print(rank2.numpy())"
      ],
      "metadata": {
        "colab": {
          "base_uri": "https://localhost:8080/"
        },
        "id": "PnlAm7I_pH5N",
        "outputId": "b9fdf4a1-2374-4f2f-c115-1d748594d6b4"
      },
      "execution_count": 24,
      "outputs": [
        {
          "output_type": "stream",
          "name": "stdout",
          "text": [
            "[[1 2]\n",
            " [3 4]\n",
            " [6 5]]\n"
          ]
        }
      ]
    },
    {
      "cell_type": "code",
      "source": [
        "# Pull out a single value from a 2-rank tensor\n",
        "print(rank2[1, 1].numpy())"
      ],
      "metadata": {
        "colab": {
          "base_uri": "https://localhost:8080/"
        },
        "id": "VmIKTMC__p_V",
        "outputId": "e466cc42-b907-49f8-eaa2-c10ea78cc7bc"
      },
      "execution_count": 25,
      "outputs": [
        {
          "output_type": "stream",
          "name": "stdout",
          "text": [
            "4\n"
          ]
        }
      ]
    },
    {
      "cell_type": "code",
      "source": [
        "print(\"Second row:\", rank2[1, :].numpy())"
      ],
      "metadata": {
        "colab": {
          "base_uri": "https://localhost:8080/"
        },
        "id": "2Er6zvwZ_1SM",
        "outputId": "4d22e44e-b14c-4514-8d01-c4cde5e65289"
      },
      "execution_count": 26,
      "outputs": [
        {
          "output_type": "stream",
          "name": "stdout",
          "text": [
            "Second row: [3 4]\n"
          ]
        }
      ]
    },
    {
      "cell_type": "code",
      "source": [
        "print(\"Last row:\", rank2[-1, :].numpy())"
      ],
      "metadata": {
        "colab": {
          "base_uri": "https://localhost:8080/"
        },
        "id": "T9NzrGOTAFcj",
        "outputId": "9f5a794e-07d6-49ec-dd1c-5d4bc4fea7af"
      },
      "execution_count": 27,
      "outputs": [
        {
          "output_type": "stream",
          "name": "stdout",
          "text": [
            "Last row: [6 5]\n"
          ]
        }
      ]
    },
    {
      "cell_type": "markdown",
      "source": [
        "**Manipulating Shapes**\n",
        "\n",
        "\n",
        "The tf.reshape does not change the order of or the total number of elements in the tensor, and so it can reuse the underlying data buffer. This makes it a fast operation independent of how big of a tensor it is operating on.\n"
      ],
      "metadata": {
        "id": "rfpiwafXAqlB"
      }
    },
    {
      "cell_type": "code",
      "source": [
        "x = tf.constant([[1], [2], [3]])\n",
        "print(x)  "
      ],
      "metadata": {
        "colab": {
          "base_uri": "https://localhost:8080/"
        },
        "id": "0OGwbl-KAugY",
        "outputId": "f2d4ad1f-778b-496a-fd6f-09aede2f6f44"
      },
      "execution_count": 28,
      "outputs": [
        {
          "output_type": "stream",
          "name": "stdout",
          "text": [
            "tf.Tensor(\n",
            "[[1]\n",
            " [2]\n",
            " [3]], shape=(3, 1), dtype=int32)\n"
          ]
        }
      ]
    },
    {
      "cell_type": "code",
      "source": [
        "# You can reshape a tensor to a new shape.\n",
        "# Note that you're passing in a list\n",
        "\n",
        "reshaped = tf.reshape(x, [1, 3])\n",
        "print(reshaped)"
      ],
      "metadata": {
        "colab": {
          "base_uri": "https://localhost:8080/"
        },
        "id": "56aSBQOmBb1P",
        "outputId": "5ae9f4cd-5a9a-4b91-cda3-edc39c5778e5"
      },
      "execution_count": 29,
      "outputs": [
        {
          "output_type": "stream",
          "name": "stdout",
          "text": [
            "tf.Tensor([[1 2 3]], shape=(1, 3), dtype=int32)\n"
          ]
        }
      ]
    },
    {
      "cell_type": "code",
      "source": [
        "# If we pass -1 passed in the `shape` argument, then we flatten our Tensor.\n",
        "print('The shape of the flattened Tensor object is:', tf.reshape(x, [-1]))"
      ],
      "metadata": {
        "colab": {
          "base_uri": "https://localhost:8080/"
        },
        "id": "H7ZGX0e5Cdzw",
        "outputId": "c554002f-8500-4f3c-9b19-1ec71ca04372"
      },
      "execution_count": 30,
      "outputs": [
        {
          "output_type": "stream",
          "name": "stdout",
          "text": [
            "The shape of the flattened Tensor object is: tf.Tensor([1 2 3], shape=(3,), dtype=int32)\n"
          ]
        }
      ]
    },
    {
      "cell_type": "markdown",
      "source": [
        "Reshaping will \"work\" for any new shape with the same total number of elements, but it will not do anything useful if you do not respect the order of the axes.\n",
        "\n"
      ],
      "metadata": {
        "id": "bDyN-PvQCMgt"
      }
    },
    {
      "cell_type": "markdown",
      "source": [
        "**Basic Operations with Tensors**\n",
        "\n",
        "You can easily do basic math operations on tensors such as:\n",
        "\n",
        "  Addition\n",
        "  Element-wise Multiplication\n",
        "  Matrix Multiplication\n",
        "  Finding the Maximum or Minimum\n",
        "  Finding the Index of the Max Element\n",
        "  Computing Softmax Value"
      ],
      "metadata": {
        "id": "9qhXxaJECnMC"
      }
    },
    {
      "cell_type": "code",
      "source": [
        "a = tf.constant([[2, 4], \n",
        "                 [6, 8]], dtype=tf.float32)\n",
        "b = tf.constant([[1, 3], \n",
        "                 [5, 7]], dtype=tf.float32)\n",
        "\n",
        "print(a)\n",
        "print(b)"
      ],
      "metadata": {
        "colab": {
          "base_uri": "https://localhost:8080/"
        },
        "id": "TB43EtgXCN_S",
        "outputId": "f1eac0b2-158f-46c9-d319-d8c1f1d67053"
      },
      "execution_count": 31,
      "outputs": [
        {
          "output_type": "stream",
          "name": "stdout",
          "text": [
            "tf.Tensor(\n",
            "[[2. 4.]\n",
            " [6. 8.]], shape=(2, 2), dtype=float32)\n",
            "tf.Tensor(\n",
            "[[1. 3.]\n",
            " [5. 7.]], shape=(2, 2), dtype=float32)\n"
          ]
        }
      ]
    },
    {
      "cell_type": "code",
      "source": [
        "add_tensors = tf.add(a,b)\n",
        "print(add_tensors)"
      ],
      "metadata": {
        "colab": {
          "base_uri": "https://localhost:8080/"
        },
        "id": "SbPtmfL3DIvY",
        "outputId": "8aad6bc6-35b3-43a8-9c26-e2edf95ed821"
      },
      "execution_count": 32,
      "outputs": [
        {
          "output_type": "stream",
          "name": "stdout",
          "text": [
            "tf.Tensor(\n",
            "[[ 3.  7.]\n",
            " [11. 15.]], shape=(2, 2), dtype=float32)\n"
          ]
        }
      ]
    },
    {
      "cell_type": "code",
      "source": [
        "# We can use `tf.multiply()` function and pass the Tensors as arguments.\n",
        "multiply_tensors = tf.multiply(a,b)\n",
        "print(multiply_tensors)"
      ],
      "metadata": {
        "colab": {
          "base_uri": "https://localhost:8080/"
        },
        "id": "-nTharu8DPRN",
        "outputId": "732153cc-5ade-4f7d-bb53-7aa3b89e18b5"
      },
      "execution_count": 33,
      "outputs": [
        {
          "output_type": "stream",
          "name": "stdout",
          "text": [
            "tf.Tensor(\n",
            "[[ 2. 12.]\n",
            " [30. 56.]], shape=(2, 2), dtype=float32)\n"
          ]
        }
      ]
    },
    {
      "cell_type": "code",
      "source": [
        "# We can use `tf.matmul()` function and pass the Tensors as arguments.\n",
        "matmul_tensors = tf.matmul(a,b)\n",
        "print(matmul_tensors)"
      ],
      "metadata": {
        "colab": {
          "base_uri": "https://localhost:8080/"
        },
        "id": "rQQyt7qQDZky",
        "outputId": "5110f867-ac19-4d98-91c0-81a09d55652a"
      },
      "execution_count": 34,
      "outputs": [
        {
          "output_type": "stream",
          "name": "stdout",
          "text": [
            "tf.Tensor(\n",
            "[[22. 34.]\n",
            " [46. 74.]], shape=(2, 2), dtype=float32)\n"
          ]
        }
      ]
    },
    {
      "cell_type": "code",
      "source": [
        "# Finding the Maximum or Minimum is possible with `tf.reduce_max()` and `tf.reduce_min()` function\n",
        "print(\"The Max value of the tensor object b is:\",\n",
        "  tf.reduce_max(b).numpy())\n",
        "\n",
        "# Finding the Index of the Max Element is possible with `tf.argmax()` function\n",
        "print(\"The index position of the max element of the tensor object b is:\",\n",
        "  tf.argmax(b).numpy())\n",
        "\n",
        "# Computing softmax is possible with `tf.nn.softmax()` function\n",
        "print(\"The softmax computation result of the tensor object b is:\",\n",
        "  tf.nn.softmax(b).numpy())"
      ],
      "metadata": {
        "colab": {
          "base_uri": "https://localhost:8080/"
        },
        "id": "LU1VDXkbDjih",
        "outputId": "f425f0e8-b476-4389-8a8f-d62903c7123d"
      },
      "execution_count": 35,
      "outputs": [
        {
          "output_type": "stream",
          "name": "stdout",
          "text": [
            "The Max value of the tensor object b is: 7.0\n",
            "The index position of the max element of the tensor object b is: [1 1]\n",
            "The softmax computation result of the tensor object b is: [[0.11920292 0.880797  ]\n",
            " [0.11920292 0.880797  ]]\n"
          ]
        }
      ]
    },
    {
      "cell_type": "markdown",
      "source": [
        "Broadcasting\n",
        "\n",
        "When we try to do combined operations using multiple Tensor objects, the smaller Tensors can stretch out automatically to fit larger tensors, just as NumPy arrays"
      ],
      "metadata": {
        "id": "DTz1wFS7D0yX"
      }
    },
    {
      "cell_type": "code",
      "source": [
        "m = tf.constant([5])\n",
        "\n",
        "n = tf.constant([[1,2],[3,4]])\n",
        "\n",
        "print(m)\n",
        "print(n)"
      ],
      "metadata": {
        "colab": {
          "base_uri": "https://localhost:8080/"
        },
        "id": "ZARVq9-PETAe",
        "outputId": "0604eb51-a42d-4e4a-869c-3f343c6bbc3b"
      },
      "execution_count": 36,
      "outputs": [
        {
          "output_type": "stream",
          "name": "stdout",
          "text": [
            "tf.Tensor([5], shape=(1,), dtype=int32)\n",
            "tf.Tensor(\n",
            "[[1 2]\n",
            " [3 4]], shape=(2, 2), dtype=int32)\n"
          ]
        }
      ]
    },
    {
      "cell_type": "code",
      "source": [
        "print(tf.multiply(m, n))"
      ],
      "metadata": {
        "colab": {
          "base_uri": "https://localhost:8080/"
        },
        "id": "fO395C6dEd02",
        "outputId": "cfb4a21e-2f58-4f07-830e-2f6188fecea0"
      },
      "execution_count": 37,
      "outputs": [
        {
          "output_type": "stream",
          "name": "stdout",
          "text": [
            "tf.Tensor(\n",
            "[[ 5 10]\n",
            " [15 20]], shape=(2, 2), dtype=int32)\n"
          ]
        }
      ]
    },
    {
      "cell_type": "markdown",
      "source": [
        "##**Types of Tensors**"
      ],
      "metadata": {
        "id": "cg6G27aSEkJN"
      }
    },
    {
      "cell_type": "markdown",
      "source": [
        "Ragged Tensors\n",
        "String Tensors\n",
        "Sparse Tensors"
      ],
      "metadata": {
        "id": "fQHPsMQnEn6-"
      }
    },
    {
      "cell_type": "code",
      "source": [
        "#Ragged tensors are tensors with different numbers of elements along the size axis\n",
        "ragged_list = [[1, 2, 3],[4, 5],[6]]\n",
        "\n",
        "ragged_tensor = tf.ragged.constant(ragged_list)\n",
        "\n",
        "print(ragged_tensor)"
      ],
      "metadata": {
        "colab": {
          "base_uri": "https://localhost:8080/"
        },
        "id": "LMqc9UCfExue",
        "outputId": "87a07241-c805-47b0-a185-a098d0acc473"
      },
      "execution_count": 38,
      "outputs": [
        {
          "output_type": "stream",
          "name": "stdout",
          "text": [
            "<tf.RaggedTensor [[1, 2, 3], [4, 5], [6]]>\n"
          ]
        }
      ]
    },
    {
      "cell_type": "code",
      "source": [
        "string_tensor = tf.constant([\"With this\", \n",
        "                             \"code, I am\", \n",
        "                             \"creating a String Tensor\"])\n",
        "\n",
        "print(string_tensor)"
      ],
      "metadata": {
        "colab": {
          "base_uri": "https://localhost:8080/"
        },
        "id": "RaIUez2zFKQc",
        "outputId": "fa1cd101-94fe-4a6e-bffa-3f2c192ec303"
      },
      "execution_count": 39,
      "outputs": [
        {
          "output_type": "stream",
          "name": "stdout",
          "text": [
            "tf.Tensor([b'With this' b'code, I am' b'creating a String Tensor'], shape=(3,), dtype=string)\n"
          ]
        }
      ]
    },
    {
      "cell_type": "code",
      "source": [
        "#Sparse Tensors are rectangular Tensors for sparse data. When you have holes (i.e., Null values) in your data, Sparse Tensors are to-go objects\n",
        "\n",
        "\n",
        "sparse_tensor = tf.sparse.SparseTensor(indices=[[0, 0], [2, 2], [4, 4]], \n",
        "                                       values=[25, 50, 100], \n",
        "                                       dense_shape=[5, 5])\n",
        "\n",
        "# We can convert sparse tensors to dense\n",
        "print(tf.sparse.to_dense(sparse_tensor))"
      ],
      "metadata": {
        "colab": {
          "base_uri": "https://localhost:8080/"
        },
        "id": "0Wauw4VoFXpu",
        "outputId": "49720864-a7a7-4140-d2a1-eb32f473dc49"
      },
      "execution_count": 40,
      "outputs": [
        {
          "output_type": "stream",
          "name": "stdout",
          "text": [
            "tf.Tensor(\n",
            "[[ 25   0   0   0   0]\n",
            " [  0   0   0   0   0]\n",
            " [  0   0  50   0   0]\n",
            " [  0   0   0   0   0]\n",
            " [  0   0   0   0 100]], shape=(5, 5), dtype=int32)\n"
          ]
        }
      ]
    },
    {
      "cell_type": "markdown",
      "source": [
        "##**tf.einsum**"
      ],
      "metadata": {
        "id": "4Swo-mh8IfX7"
      }
    },
    {
      "cell_type": "markdown",
      "source": [
        "C[i,k] = sum_j A[i,j] * B[j,k]. \n",
        "\n",
        "The corresponding einsum equation is:\n",
        "\n",
        "ij,jk->ik"
      ],
      "metadata": {
        "id": "UXpREsSzInWA"
      }
    },
    {
      "cell_type": "code",
      "source": [
        "# Matrix multiplication\n",
        "\n",
        "\n",
        "m0 = tf.random.normal(shape=[2, 3])\n",
        "m1 = tf.random.normal(shape=[3, 5])\n",
        "e = tf.einsum('ij,jk->ik', m0, m1)\n",
        "# output[i,k] = sum_j m0[i,j] * m1[j, k]\n",
        "print(e.shape)\n"
      ],
      "metadata": {
        "colab": {
          "base_uri": "https://localhost:8080/"
        },
        "id": "-Q-nXwRqIiSe",
        "outputId": "a927f699-130a-49ad-f167-539d82491756"
      },
      "execution_count": 41,
      "outputs": [
        {
          "output_type": "stream",
          "name": "stdout",
          "text": [
            "(2, 5)\n"
          ]
        }
      ]
    },
    {
      "cell_type": "code",
      "source": [
        "# Dot product\n",
        "\n",
        "u = tf.random.normal(shape=[5])\n",
        "v = tf.random.normal(shape=[5])\n",
        "e = tf.einsum('i,i->', u, v)  # output = sum_i u[i]*v[i]\n",
        "print(e)\n"
      ],
      "metadata": {
        "colab": {
          "base_uri": "https://localhost:8080/"
        },
        "id": "gETVVjEdJCPW",
        "outputId": "d27ac4d0-f55b-4654-9aa2-6e2477ed74a4"
      },
      "execution_count": 42,
      "outputs": [
        {
          "output_type": "stream",
          "name": "stdout",
          "text": [
            "tf.Tensor(1.9952836, shape=(), dtype=float32)\n"
          ]
        }
      ]
    },
    {
      "cell_type": "code",
      "source": [
        "u = tf.random.normal(shape=[3])\n",
        "v = tf.random.normal(shape=[5])\n",
        "e = tf.einsum('i,j->ij', u, v)  # output[i,j] = u[i]*v[j]\n",
        "print(e.shape)\n"
      ],
      "metadata": {
        "colab": {
          "base_uri": "https://localhost:8080/"
        },
        "id": "8u1tpTTaJkoz",
        "outputId": "97e45173-afeb-4ecf-e48e-2faf8b11904b"
      },
      "execution_count": 43,
      "outputs": [
        {
          "output_type": "stream",
          "name": "stdout",
          "text": [
            "(3, 5)\n"
          ]
        }
      ]
    },
    {
      "cell_type": "code",
      "source": [
        "m = tf.ones(2,3)\n",
        "e = tf.einsum('ij->ji', m0)  # output[j,i] = m0[i,j]\n",
        "print(e.shape)"
      ],
      "metadata": {
        "id": "GFCZVXRGJx-g",
        "outputId": "c2455f62-caa9-4990-a0e2-560dd1fb9d6b",
        "colab": {
          "base_uri": "https://localhost:8080/"
        }
      },
      "execution_count": 44,
      "outputs": [
        {
          "output_type": "stream",
          "name": "stdout",
          "text": [
            "(3, 2)\n"
          ]
        }
      ]
    }
  ]
}