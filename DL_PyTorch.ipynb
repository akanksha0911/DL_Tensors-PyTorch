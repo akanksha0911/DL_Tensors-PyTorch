{
  "nbformat": 4,
  "nbformat_minor": 0,
  "metadata": {
    "colab": {
      "name": "DL_PyTorch.ipynb",
      "provenance": [],
      "collapsed_sections": [],
      "authorship_tag": "ABX9TyMW61C6PUSkr1Fw8t/r55rj",
      "include_colab_link": true
    },
    "kernelspec": {
      "name": "python3",
      "display_name": "Python 3"
    },
    "language_info": {
      "name": "python"
    },
    "accelerator": "GPU"
  },
  "cells": [
    {
      "cell_type": "markdown",
      "metadata": {
        "id": "view-in-github",
        "colab_type": "text"
      },
      "source": [
        "<a href=\"https://colab.research.google.com/github/akanksha0911/DL_Tensors-PyTorch/blob/main/DL_PyTorch.ipynb\" target=\"_parent\"><img src=\"https://colab.research.google.com/assets/colab-badge.svg\" alt=\"Open In Colab\"/></a>"
      ]
    },
    {
      "cell_type": "markdown",
      "source": [
        "Learning PyTorch from scratch - "
      ],
      "metadata": {
        "id": "2t7gxnW-B0i0"
      }
    },
    {
      "cell_type": "markdown",
      "source": [
        "# **Initialization**"
      ],
      "metadata": {
        "id": "Fmyawb3wV1tj"
      }
    },
    {
      "cell_type": "code",
      "execution_count": 2,
      "metadata": {
        "id": "Zwn8CLo3Str7"
      },
      "outputs": [],
      "source": [
        "# importing libraries\n",
        "import numpy as np\n",
        "\n",
        "import torch"
      ]
    },
    {
      "cell_type": "code",
      "source": [
        "# initializing a numpy array\n",
        "a = np.array(1)\n",
        "\n",
        "# initializing a tensor\n",
        "b = torch.tensor(1)\n",
        "\n",
        "print(a)\n",
        "print(b)"
      ],
      "metadata": {
        "colab": {
          "base_uri": "https://localhost:8080/"
        },
        "id": "P0YFAoUxVali",
        "outputId": "42f52a53-8713-435b-fd44-adc9edccfc58"
      },
      "execution_count": 3,
      "outputs": [
        {
          "output_type": "stream",
          "name": "stdout",
          "text": [
            "1\n",
            "tensor(1)\n"
          ]
        }
      ]
    },
    {
      "cell_type": "code",
      "source": [
        "type(a), type(b)"
      ],
      "metadata": {
        "colab": {
          "base_uri": "https://localhost:8080/"
        },
        "id": "6Jfh9kYJVgxc",
        "outputId": "200d6e63-a8ed-4de8-a516-e4fac3a27a93"
      },
      "execution_count": 4,
      "outputs": [
        {
          "output_type": "execute_result",
          "data": {
            "text/plain": [
              "(numpy.ndarray, torch.Tensor)"
            ]
          },
          "metadata": {},
          "execution_count": 4
        }
      ]
    },
    {
      "cell_type": "markdown",
      "source": [
        "## **Mathematical operations**"
      ],
      "metadata": {
        "id": "_AJS64nVVv5B"
      }
    },
    {
      "cell_type": "code",
      "source": [
        "# initializing two arrays\n",
        "a = np.array(2)\n",
        "b = np.array(1)\n",
        "print(a,b)"
      ],
      "metadata": {
        "colab": {
          "base_uri": "https://localhost:8080/"
        },
        "id": "VG4UnY4cV_Og",
        "outputId": "edf5416a-5344-400a-804b-c365b78e2f94"
      },
      "execution_count": 5,
      "outputs": [
        {
          "output_type": "stream",
          "name": "stdout",
          "text": [
            "2 1\n"
          ]
        }
      ]
    },
    {
      "cell_type": "code",
      "source": [
        "# addition\n",
        "print(a+b)\n",
        "\n",
        "# subtraction\n",
        "print(b-a)\n",
        "\n",
        "# multiplication\n",
        "print(a*b)\n",
        "\n",
        "# division\n",
        "print(a/b)"
      ],
      "metadata": {
        "colab": {
          "base_uri": "https://localhost:8080/"
        },
        "id": "uOgyCf6EWDTl",
        "outputId": "1842e576-e8cc-4d0b-c87b-20c7a438709f"
      },
      "execution_count": 6,
      "outputs": [
        {
          "output_type": "stream",
          "name": "stdout",
          "text": [
            "3\n",
            "-1\n",
            "2\n",
            "2.0\n"
          ]
        }
      ]
    },
    {
      "cell_type": "code",
      "source": [
        "# initializing two tensors\n",
        "a = torch.tensor(2)\n",
        "b = torch.tensor(1)\n",
        "print(a,b)"
      ],
      "metadata": {
        "colab": {
          "base_uri": "https://localhost:8080/"
        },
        "id": "7Lq2n-v0WLwn",
        "outputId": "7ed3aa6a-2e53-4604-ce6a-f11e26b8212e"
      },
      "execution_count": 7,
      "outputs": [
        {
          "output_type": "stream",
          "name": "stdout",
          "text": [
            "tensor(2) tensor(1)\n"
          ]
        }
      ]
    },
    {
      "cell_type": "code",
      "source": [
        "\n",
        "# addition\n",
        "print(a+b)\n",
        "\n",
        "# subtraction\n",
        "print(b-a)\n",
        "\n",
        "# multiplication\n",
        "print(a*b)\n",
        "\n",
        "# division\n",
        "print(a/b)"
      ],
      "metadata": {
        "id": "xvOJMwwiWO3S",
        "outputId": "8b4a2a9e-2817-4af3-f5df-4ed24e457406",
        "colab": {
          "base_uri": "https://localhost:8080/"
        }
      },
      "execution_count": 8,
      "outputs": [
        {
          "output_type": "stream",
          "name": "stdout",
          "text": [
            "tensor(3)\n",
            "tensor(-1)\n",
            "tensor(2)\n",
            "tensor(2.)\n"
          ]
        }
      ]
    },
    {
      "cell_type": "code",
      "source": [
        "# matrix of zeros\n",
        "a = np.zeros((3,3))\n",
        "print(a)\n",
        "print(a.shape)"
      ],
      "metadata": {
        "colab": {
          "base_uri": "https://localhost:8080/"
        },
        "id": "Ag_fxe4e-z1n",
        "outputId": "6f5a1642-744f-4631-f2aa-f7a7fbe034f2"
      },
      "execution_count": 10,
      "outputs": [
        {
          "output_type": "stream",
          "name": "stdout",
          "text": [
            "[[0. 0. 0.]\n",
            " [0. 0. 0.]\n",
            " [0. 0. 0.]]\n",
            "(3, 3)\n"
          ]
        }
      ]
    },
    {
      "cell_type": "markdown",
      "source": [
        "while building a neural network, we randomly initialize the weights for the model. "
      ],
      "metadata": {
        "id": "GJLTd1qa_qXB"
      }
    },
    {
      "cell_type": "code",
      "source": [
        "# matrix of zeros\n",
        "a = torch.zeros((3,3))\n",
        "print(a)\n",
        "print(a.shape)"
      ],
      "metadata": {
        "colab": {
          "base_uri": "https://localhost:8080/"
        },
        "id": "72f_3X8V_GzH",
        "outputId": "23027f74-2d14-4d46-bfab-ab62e444f45d"
      },
      "execution_count": 11,
      "outputs": [
        {
          "output_type": "stream",
          "name": "stdout",
          "text": [
            "tensor([[0., 0., 0.],\n",
            "        [0., 0., 0.],\n",
            "        [0., 0., 0.]])\n",
            "torch.Size([3, 3])\n"
          ]
        }
      ]
    },
    {
      "cell_type": "markdown",
      "source": [
        "specifying the random seed at the beginning here so that every time we run the below code, the same random number will generate. \n",
        "\n",
        "The random.randn() function returns random numbers that follow a standard normal distribution. "
      ],
      "metadata": {
        "id": "VXLR4td0_1ST"
      }
    },
    {
      "cell_type": "code",
      "source": [
        "# setting the random seed for numpy\n",
        "np.random.seed(42)\n",
        "# matrix of random numbers\n",
        "a = np.random.randn(3,3)\n",
        "a"
      ],
      "metadata": {
        "colab": {
          "base_uri": "https://localhost:8080/"
        },
        "id": "wwlP68pK_M5L",
        "outputId": "042027f7-5017-4ebf-91eb-7505de55d241"
      },
      "execution_count": 17,
      "outputs": [
        {
          "output_type": "execute_result",
          "data": {
            "text/plain": [
              "array([[ 0.49671415, -0.1382643 ,  0.64768854],\n",
              "       [ 1.52302986, -0.23415337, -0.23413696],\n",
              "       [ 1.57921282,  0.76743473, -0.46947439]])"
            ]
          },
          "metadata": {},
          "execution_count": 17
        }
      ]
    },
    {
      "cell_type": "code",
      "source": [
        "# setting the random seed for pytorch\n",
        "torch.manual_seed(42)\n",
        "# matrix of random numbers\n",
        "a = torch.randn(3,3)\n",
        "a"
      ],
      "metadata": {
        "colab": {
          "base_uri": "https://localhost:8080/"
        },
        "id": "o9g-PCtZAPji",
        "outputId": "667ff152-281c-4041-e1ca-1c4a88b650c6"
      },
      "execution_count": 21,
      "outputs": [
        {
          "output_type": "execute_result",
          "data": {
            "text/plain": [
              "tensor([[ 0.3367,  0.1288,  0.2345],\n",
              "        [ 0.2303, -1.1229, -0.1863],\n",
              "        [ 2.2082, -0.6380,  0.4617]])"
            ]
          },
          "metadata": {},
          "execution_count": 21
        }
      ]
    },
    {
      "cell_type": "code",
      "source": [
        "# setting the random seed for numpy and initializing two matrices\n",
        "np.random.seed(42)\n",
        "a = np.random.randn(3,3)\n",
        "b = np.random.randn(3,3)"
      ],
      "metadata": {
        "id": "8tA4qJfVAX0s"
      },
      "execution_count": 22,
      "outputs": []
    },
    {
      "cell_type": "code",
      "source": [
        "# matrix addition\n",
        "print(np.add(a,b), '\\n')\n",
        "\n",
        "# matrix subtraction\n",
        "print(np.subtract(a,b), '\\n')\n",
        "\n",
        "# matrix multiplication\n",
        "print(np.dot(a,b), '\\n')\n",
        "\n",
        "# matrix multiplication\n",
        "print(np.divide(a,b))"
      ],
      "metadata": {
        "colab": {
          "base_uri": "https://localhost:8080/"
        },
        "id": "9zj2SoDFAcp1",
        "outputId": "ee7270a9-3272-4b78-8cf2-28e9393de35e"
      },
      "execution_count": 23,
      "outputs": [
        {
          "output_type": "stream",
          "name": "stdout",
          "text": [
            "[[ 1.0392742  -0.60168199  0.18195878]\n",
            " [ 1.76499213 -2.14743362 -1.95905479]\n",
            " [ 1.01692529 -0.24539639 -0.15522705]] \n",
            "\n",
            "[[-0.04584589  0.32515339  1.11341829]\n",
            " [ 1.28106758  1.67912687  1.49078088]\n",
            " [ 2.14150034  1.78026585 -0.78372172]] \n",
            "\n",
            "[[-0.12814468 -0.62164688  0.21069439]\n",
            " [ 0.90133115 -0.02065676 -0.3790019 ]\n",
            " [ 1.30648762 -1.7246546  -2.20677932]] \n",
            "\n",
            "[[ 0.9155008   0.29835784 -1.39069607]\n",
            " [ 6.29449313  0.12238321  0.13573803]\n",
            " [-2.80855031 -0.75771243 -1.49396459]]\n"
          ]
        }
      ]
    },
    {
      "cell_type": "markdown",
      "source": [
        "Matrix transpose is one technique which is also very useful while creating a neural network from scratch"
      ],
      "metadata": {
        "id": "D_Mr6DZsAlPS"
      }
    },
    {
      "cell_type": "code",
      "source": [
        "# original matrix\n",
        "print(a, '\\n')\n",
        "\n",
        "# matrix transpose\n",
        "print(np.transpose(a))"
      ],
      "metadata": {
        "colab": {
          "base_uri": "https://localhost:8080/"
        },
        "id": "Dix0o_8FAfA4",
        "outputId": "0aba7684-7317-4219-ac8f-ed0b62bca0a4"
      },
      "execution_count": 27,
      "outputs": [
        {
          "output_type": "stream",
          "name": "stdout",
          "text": [
            "[[ 0.49671415 -0.1382643   0.64768854]\n",
            " [ 1.52302986 -0.23415337 -0.23413696]\n",
            " [ 1.57921282  0.76743473 -0.46947439]] \n",
            "\n",
            "[[ 0.49671415  1.52302986  1.57921282]\n",
            " [-0.1382643  -0.23415337  0.76743473]\n",
            " [ 0.64768854 -0.23413696 -0.46947439]]\n"
          ]
        }
      ]
    },
    {
      "cell_type": "code",
      "source": [
        "# setting the random seed for pytorch and initializing two tensors\n",
        "torch.manual_seed(42)\n",
        "a = torch.randn(3,3)\n",
        "b = torch.randn(3,3)"
      ],
      "metadata": {
        "id": "vzhVJuUvA0o-"
      },
      "execution_count": 28,
      "outputs": []
    },
    {
      "cell_type": "code",
      "source": [
        "# matrix addition\n",
        "print(torch.add(a,b), '\\n')\n",
        "\n",
        "# matrix subtraction\n",
        "print(torch.sub(a,b), '\\n')\n",
        "\n",
        "# matrix multiplication\n",
        "print(torch.mm(a,b), '\\n')\n",
        "\n",
        "# matrix division\n",
        "print(torch.div(a,b))"
      ],
      "metadata": {
        "colab": {
          "base_uri": "https://localhost:8080/"
        },
        "id": "i57SoHn9A9GF",
        "outputId": "4cf179a8-c1d5-4b82-829a-fa44241d51b7"
      },
      "execution_count": 29,
      "outputs": [
        {
          "output_type": "stream",
          "name": "stdout",
          "text": [
            "tensor([[ 0.6040,  0.6637,  1.0438],\n",
            "        [ 1.3406, -2.8127, -1.1753],\n",
            "        [ 3.1662,  0.6841,  1.2788]]) \n",
            "\n",
            "tensor([[ 0.0693, -0.4061, -0.5749],\n",
            "        [-0.8800,  0.5669,  0.8026],\n",
            "        [ 1.2502, -1.9601, -0.3555]]) \n",
            "\n",
            "tensor([[ 0.4576,  0.2724,  0.3367],\n",
            "        [-1.3636,  1.7743,  1.1446],\n",
            "        [ 0.3243,  2.8696,  2.7954]]) \n",
            "\n",
            "tensor([[ 1.2594,  0.2408,  0.2897],\n",
            "        [ 0.2075,  0.6645,  0.1884],\n",
            "        [ 2.3051, -0.4826,  0.5649]])\n"
          ]
        }
      ]
    },
    {
      "cell_type": "markdown",
      "source": [
        "the .mm() function of PyTorch is similar to the dot product in NumPy. This function is helpful when we create our model from scratch in PyTorch. Calculating transpose is also similar to NumPy:"
      ],
      "metadata": {
        "id": "9uCrQ4lXBCxp"
      }
    },
    {
      "cell_type": "code",
      "source": [
        "# original matrix\n",
        "print(a, '\\n')\n",
        "\n",
        "# matrix transpose\n",
        "torch.t(a)"
      ],
      "metadata": {
        "colab": {
          "base_uri": "https://localhost:8080/"
        },
        "id": "3uamjEtLBJcX",
        "outputId": "6ca9147f-a9b5-491f-c27b-84bcfb0fb8a0"
      },
      "execution_count": 30,
      "outputs": [
        {
          "output_type": "stream",
          "name": "stdout",
          "text": [
            "tensor([[ 0.3367,  0.1288,  0.2345],\n",
            "        [ 0.2303, -1.1229, -0.1863],\n",
            "        [ 2.2082, -0.6380,  0.4617]]) \n",
            "\n"
          ]
        },
        {
          "output_type": "execute_result",
          "data": {
            "text/plain": [
              "tensor([[ 0.3367,  0.2303,  2.2082],\n",
              "        [ 0.1288, -1.1229, -0.6380],\n",
              "        [ 0.2345, -0.1863,  0.4617]])"
            ]
          },
          "metadata": {},
          "execution_count": 30
        }
      ]
    },
    {
      "cell_type": "code",
      "source": [
        "# initializing two tensors\n",
        "a = torch.tensor([[1,2],[3,4]])\n",
        "b = torch.tensor([[5,6],[7,8]])\n",
        "print(a, '\\n')\n",
        "print(b)"
      ],
      "metadata": {
        "colab": {
          "base_uri": "https://localhost:8080/"
        },
        "id": "euWUKPbBBPks",
        "outputId": "b608afac-6c62-49a2-d0ec-f364373ca5cd"
      },
      "execution_count": 31,
      "outputs": [
        {
          "output_type": "stream",
          "name": "stdout",
          "text": [
            "tensor([[1, 2],\n",
            "        [3, 4]]) \n",
            "\n",
            "tensor([[5, 6],\n",
            "        [7, 8]])\n"
          ]
        }
      ]
    },
    {
      "cell_type": "code",
      "source": [
        "# concatenating vertically\n",
        "torch.cat((a,b))"
      ],
      "metadata": {
        "colab": {
          "base_uri": "https://localhost:8080/"
        },
        "id": "e8bnMziqBTEv",
        "outputId": "51b7355a-89b0-4090-c643-a5a106b6acf0"
      },
      "execution_count": 32,
      "outputs": [
        {
          "output_type": "execute_result",
          "data": {
            "text/plain": [
              "tensor([[1, 2],\n",
              "        [3, 4],\n",
              "        [5, 6],\n",
              "        [7, 8]])"
            ]
          },
          "metadata": {},
          "execution_count": 32
        }
      ]
    },
    {
      "cell_type": "markdown",
      "source": [
        "the second tensor has been stacked below the first tensor. We can concatenate the tensors horizontally as well by setting the dim parameter to 1"
      ],
      "metadata": {
        "id": "cb0WiWnFBacn"
      }
    },
    {
      "cell_type": "code",
      "source": [
        "# concatenating horizontally\n",
        "torch.cat((a,b),dim=1)"
      ],
      "metadata": {
        "colab": {
          "base_uri": "https://localhost:8080/"
        },
        "id": "vOEagbpNBbXc",
        "outputId": "d01ca8e6-79e4-4c94-c18f-708ad83b3d72"
      },
      "execution_count": 33,
      "outputs": [
        {
          "output_type": "execute_result",
          "data": {
            "text/plain": [
              "tensor([[1, 2, 5, 6],\n",
              "        [3, 4, 7, 8]])"
            ]
          },
          "metadata": {},
          "execution_count": 33
        }
      ]
    },
    {
      "cell_type": "markdown",
      "source": [
        "**Reshaping Tensors**"
      ],
      "metadata": {
        "id": "gFDDIKdmBhBP"
      }
    },
    {
      "cell_type": "code",
      "source": [
        "# setting the random seed for pytorch\n",
        "torch.manual_seed(42)\n",
        "# initializing tensor\n",
        "a = torch.randn(2,4)\n",
        "print(a)\n",
        "a.shape"
      ],
      "metadata": {
        "colab": {
          "base_uri": "https://localhost:8080/"
        },
        "id": "eZ-RXqqKBi5_",
        "outputId": "adf1bcaf-561d-4611-cb99-de7b4225ab8b"
      },
      "execution_count": 34,
      "outputs": [
        {
          "output_type": "stream",
          "name": "stdout",
          "text": [
            "tensor([[ 0.3367,  0.1288,  0.2345,  0.2303],\n",
            "        [-1.1229, -0.1863,  2.2082, -0.6380]])\n"
          ]
        },
        {
          "output_type": "execute_result",
          "data": {
            "text/plain": [
              "torch.Size([2, 4])"
            ]
          },
          "metadata": {},
          "execution_count": 34
        }
      ]
    },
    {
      "cell_type": "code",
      "source": [
        "# reshaping tensor\n",
        "b = a.reshape(1,8)\n",
        "print(b)\n",
        "b.shape"
      ],
      "metadata": {
        "colab": {
          "base_uri": "https://localhost:8080/"
        },
        "id": "qRkGQo4yBnUC",
        "outputId": "28dd5396-60db-448e-929e-3f0341dc2366"
      },
      "execution_count": 35,
      "outputs": [
        {
          "output_type": "stream",
          "name": "stdout",
          "text": [
            "tensor([[ 0.3367,  0.1288,  0.2345,  0.2303, -1.1229, -0.1863,  2.2082, -0.6380]])\n"
          ]
        },
        {
          "output_type": "execute_result",
          "data": {
            "text/plain": [
              "torch.Size([1, 8])"
            ]
          },
          "metadata": {},
          "execution_count": 35
        }
      ]
    },
    {
      "cell_type": "markdown",
      "source": [
        "cc https://www.analyticsvidhya.com/blog/2019/09/introduction-to-pytorch-from-scratch/"
      ],
      "metadata": {
        "id": "3NUnWV0IB_O9"
      }
    }
  ]
}